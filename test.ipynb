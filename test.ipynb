{
 "cells": [
  {
   "cell_type": "code",
   "execution_count": 1,
   "metadata": {},
   "outputs": [
    {
     "name": "stdout",
     "output_type": "stream",
     "text": [
      "torch.Size([1, 512])\n",
      "torch.Size([1, 512])\n",
      "torch.Size([1, 512])\n",
      "torch.Size([1, 512])\n"
     ]
    }
   ],
   "source": [
    "from utils.general import ModelParams\n",
    "from model.attention import SDPAttention, MultiHeadAttention\n",
    "from model.transformer import EncoderBlock, TransformerEncoder, DecoderBlock, TransformerDecoder, Transformer\n",
    "from utils.data import load_data\n",
    "from utils.preproc import preprocess_data\n",
    "import torch\n",
    "# default params\n",
    "mp = ModelParams()\n",
    "\n",
    "sdpa = SDPAttention(mp)\n",
    "\n",
    "# fake qkv\n",
    "\n",
    "Q = torch.randn((1, mp.d_k))\n",
    "K = torch.randn((1, mp.d_k))\n",
    "V = torch.randn((1, mp.d_v))\n",
    "\n",
    "sdpa(Q, K, V)\n",
    "\n",
    "mha = MultiHeadAttention(mp)\n",
    "\n",
    "Q = torch.randn((1, mp.d_model))\n",
    "K = torch.randn((1, mp.d_model))\n",
    "V = torch.randn((1, mp.d_model))\n",
    "\n",
    "mha(Q, K, V)\n",
    "\n",
    "eb = EncoderBlock(mp)\n",
    "print(eb(Q).shape)\n",
    "\n",
    "e = TransformerEncoder(mp)\n",
    "print(e(Q).shape)\n",
    "\n",
    "db = DecoderBlock(mp)\n",
    "\n",
    "inputs = (Q, K)\n",
    "\n",
    "print(db(inputs)[1].shape)\n",
    "\n",
    "d = TransformerDecoder(mp)\n",
    "\n",
    "print(d(inputs)[1].shape)\n",
    "\n",
    "#megatron = Transformer(n_dim, n_heads, ...)\n",
    "\n"
   ]
  },
  {
   "cell_type": "code",
   "execution_count": 2,
   "metadata": {},
   "outputs": [],
   "source": [
    "train, val =  load_data(mp)\n",
    "eng, sp = preprocess_data(mp, train, val, test=True)"
   ]
  },
  {
   "cell_type": "code",
   "execution_count": 3,
   "metadata": {},
   "outputs": [
    {
     "name": "stdout",
     "output_type": "stream",
     "text": [
      "1\n"
     ]
    }
   ],
   "source": [
    "print(eng['<pad>'])"
   ]
  },
  {
   "cell_type": "code",
   "execution_count": 4,
   "metadata": {},
   "outputs": [
    {
     "ename": "TypeError",
     "evalue": "__init__() missing 1 required positional argument: 'mp'",
     "output_type": "error",
     "traceback": [
      "\u001b[0;31m---------------------------------------------------------------------------\u001b[0m",
      "\u001b[0;31mTypeError\u001b[0m                                 Traceback (most recent call last)",
      "\u001b[0;32m<ipython-input-4-892275ea0d6f>\u001b[0m in \u001b[0;36m<module>\u001b[0;34m\u001b[0m\n\u001b[0;32m----> 1\u001b[0;31m \u001b[0mt\u001b[0m \u001b[0;34m=\u001b[0m \u001b[0mTransformer\u001b[0m\u001b[0;34m(\u001b[0m\u001b[0;34m)\u001b[0m\u001b[0;34m\u001b[0m\u001b[0;34m\u001b[0m\u001b[0m\n\u001b[0m",
      "\u001b[0;31mTypeError\u001b[0m: __init__() missing 1 required positional argument: 'mp'"
     ]
    }
   ],
   "source": [
    "t = Transformer()"
   ]
  },
  {
   "cell_type": "code",
   "execution_count": null,
   "metadata": {},
   "outputs": [],
   "source": []
  }
 ],
 "metadata": {
  "interpreter": {
   "hash": "aee8b7b246df8f9039afb4144a1f6fd8d2ca17a180786b69acc140d282b71a49"
  },
  "kernelspec": {
   "display_name": "Python 3.8.0 64-bit",
   "language": "python",
   "name": "python3"
  },
  "language_info": {
   "codemirror_mode": {
    "name": "ipython",
    "version": 3
   },
   "file_extension": ".py",
   "mimetype": "text/x-python",
   "name": "python",
   "nbconvert_exporter": "python",
   "pygments_lexer": "ipython3",
   "version": "3.8.0"
  },
  "orig_nbformat": 4
 },
 "nbformat": 4,
 "nbformat_minor": 2
}
